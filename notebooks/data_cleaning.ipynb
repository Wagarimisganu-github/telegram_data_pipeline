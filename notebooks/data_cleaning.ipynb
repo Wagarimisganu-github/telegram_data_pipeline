{
 "cells": [
  {
   "cell_type": "code",
   "execution_count": 1,
   "metadata": {},
   "outputs": [],
   "source": [
    "import sys\n",
    "import os\n",
    "import pandas as pd"
   ]
  },
  {
   "cell_type": "code",
   "execution_count": 2,
   "metadata": {},
   "outputs": [],
   "source": [
    "sys.path.append(os.path.abspath('../scripts'))"
   ]
  },
  {
   "cell_type": "code",
   "execution_count": 3,
   "metadata": {},
   "outputs": [],
   "source": [
    "from data_cleaning_transformation import clean_and_transform_data\n"
   ]
  },
  {
   "cell_type": "code",
   "execution_count": 4,
   "metadata": {},
   "outputs": [],
   "source": [
    "input_csv = 'C:/Users/teeyob/EthiMed_Data_Hub/data/telegram_data.csv'"
   ]
  },
  {
   "cell_type": "code",
   "execution_count": 5,
   "metadata": {},
   "outputs": [
    {
     "name": "stdout",
     "output_type": "stream",
     "text": [
      "Null values count in each column:\n",
      "Channel Title          0\n",
      "Channel Username       0\n",
      "ID                     0\n",
      "Message             1187\n",
      "Date                   0\n",
      "Media Path          1548\n",
      "dtype: int64\n"
     ]
    }
   ],
   "source": [
    "df = pd.read_csv(input_csv)\n",
    "null_counts = df.isnull().sum()\n",
    "\n",
    "print(\"Null values count in each column:\")\n",
    "print(null_counts)"
   ]
  },
  {
   "cell_type": "code",
   "execution_count": 6,
   "metadata": {},
   "outputs": [
    {
     "data": {
      "text/plain": [
       "Index(['Channel Title', 'Channel Username', 'ID', 'Message', 'Date',\n",
       "       'Media Path'],\n",
       "      dtype='object')"
      ]
     },
     "execution_count": 6,
     "metadata": {},
     "output_type": "execute_result"
    }
   ],
   "source": [
    "df.columns"
   ]
  },
  {
   "cell_type": "code",
   "execution_count": 7,
   "metadata": {},
   "outputs": [
    {
     "data": {
      "text/plain": [
       "<bound method NDFrame.head of                                           Channel Title Channel Username   ID  \\\n",
       "0                                      Doctors Ethiopia       @DoctorsET  864   \n",
       "1                                      Doctors Ethiopia       @DoctorsET  863   \n",
       "2                                      Doctors Ethiopia       @DoctorsET  862   \n",
       "3                                      Doctors Ethiopia       @DoctorsET  861   \n",
       "4                                      Doctors Ethiopia       @DoctorsET  860   \n",
       "...                                                 ...              ...  ...   \n",
       "6364  ETHIO-AMERICAN MEDICAL TRAININGS( CPD ) & HEAL...           @EAHCI    8   \n",
       "6365  ETHIO-AMERICAN MEDICAL TRAININGS( CPD ) & HEAL...           @EAHCI    4   \n",
       "6366  ETHIO-AMERICAN MEDICAL TRAININGS( CPD ) & HEAL...           @EAHCI    3   \n",
       "6367  ETHIO-AMERICAN MEDICAL TRAININGS( CPD ) & HEAL...           @EAHCI    2   \n",
       "6368  ETHIO-AMERICAN MEDICAL TRAININGS( CPD ) & HEAL...           @EAHCI    1   \n",
       "\n",
       "                                                Message  \\\n",
       "0     https://youtu.be/5DBoEm-8kmA?si=LDLuEecNfULJVD...   \n",
       "1     ዶክተርስ ኢትዮጵያ በ አዲስ አቀራረብ በ ቴሌቪዥን ፕሮግራሙን ለመጀመር ከ...   \n",
       "2     ሞት በስኳር \\n\\nለልጆቻችን የምናሲዘው ምሳቃ ሳናቀው እድሚያቸውን ይቀን...   \n",
       "3     ከ HIV የተፈወሰ ሰው አጋጥሟችሁ ያቃል ? ፈውስ እና ህክምና ?\\n\\nሙ...   \n",
       "4     በቅርብ ጊዜ በሃገራችን ላይ እየተስተዋለ ያለ የተመሳሳይ ፆታ ( Homos...   \n",
       "...                                                 ...   \n",
       "6364  አማራ ክልል ባህር_ዳር \\n    -------------------------...   \n",
       "6365                                                NaN   \n",
       "6366                                                NaN   \n",
       "6367                                                NaN   \n",
       "6368                                                NaN   \n",
       "\n",
       "                           Date           Media Path  \n",
       "0     2023-12-18 17:04:02+00:00                  NaN  \n",
       "1     2023-11-03 16:14:39+00:00                  NaN  \n",
       "2     2023-10-02 16:37:39+00:00                  NaN  \n",
       "3     2023-09-16 07:54:32+00:00                  NaN  \n",
       "4     2023-09-01 16:16:15+00:00                  NaN  \n",
       "...                         ...                  ...  \n",
       "6364  2021-04-01 15:19:59+00:00                  NaN  \n",
       "6365  2021-03-31 19:37:59+00:00  photos\\@EAHCI_4.jpg  \n",
       "6366  2021-03-31 19:20:22+00:00                  NaN  \n",
       "6367  2021-03-31 19:11:28+00:00                  NaN  \n",
       "6368  2021-03-31 19:00:32+00:00                  NaN  \n",
       "\n",
       "[6369 rows x 6 columns]>"
      ]
     },
     "execution_count": 7,
     "metadata": {},
     "output_type": "execute_result"
    }
   ],
   "source": [
    "df.head"
   ]
  },
  {
   "cell_type": "code",
   "execution_count": 8,
   "metadata": {},
   "outputs": [
    {
     "name": "stdout",
     "output_type": "stream",
     "text": [
      "Initial dataset info:\n",
      "<class 'pandas.core.frame.DataFrame'>\n",
      "RangeIndex: 6369 entries, 0 to 6368\n",
      "Data columns (total 6 columns):\n",
      " #   Column            Non-Null Count  Dtype \n",
      "---  ------            --------------  ----- \n",
      " 0   Channel Title     6369 non-null   object\n",
      " 1   Channel Username  6369 non-null   object\n",
      " 2   ID                6369 non-null   int64 \n",
      " 3   Message           5182 non-null   object\n",
      " 4   Date              6369 non-null   object\n",
      " 5   Media Path        4821 non-null   object\n",
      "dtypes: int64(1), object(5)\n",
      "memory usage: 298.7+ KB\n",
      "None\n",
      "Duplicates removed.\n",
      "Missing values in 'Message' handled.\n",
      "Missing values in 'Media Path' handled.\n",
      "Invalid media paths removed.\n",
      "Date column standardized.\n",
      "Cleaned data saved to C:/Users/teeyob/EthiMed_Data_Hub/data/cleaned_data.csv\n"
     ]
    },
    {
     "name": "stderr",
     "output_type": "stream",
     "text": [
      "c:\\Users\\teeyob\\EthiMed_Data_Hub\\scripts\\data_cleaning_transformation.py:24: FutureWarning: A value is trying to be set on a copy of a DataFrame or Series through chained assignment using an inplace method.\n",
      "The behavior will change in pandas 3.0. This inplace method will never work because the intermediate object on which we are setting values always behaves as a copy.\n",
      "\n",
      "For example, when doing 'df[col].method(value, inplace=True)', try using 'df.method({col: value}, inplace=True)' or df[col] = df[col].method(value) instead, to perform the operation inplace on the original object.\n",
      "\n",
      "\n",
      "  df['Message'].fillna('No message', inplace=True)  # Impute with placeholder\n",
      "c:\\Users\\teeyob\\EthiMed_Data_Hub\\scripts\\data_cleaning_transformation.py:28: FutureWarning: A value is trying to be set on a copy of a DataFrame or Series through chained assignment using an inplace method.\n",
      "The behavior will change in pandas 3.0. This inplace method will never work because the intermediate object on which we are setting values always behaves as a copy.\n",
      "\n",
      "For example, when doing 'df[col].method(value, inplace=True)', try using 'df.method({col: value}, inplace=True)' or df[col] = df[col].method(value) instead, to perform the operation inplace on the original object.\n",
      "\n",
      "\n",
      "  df['Media Path'].fillna('No media', inplace=True)  # Impute with placeholder\n"
     ]
    }
   ],
   "source": [
    "\n",
    "output_csv = 'C:/Users/teeyob/EthiMed_Data_Hub/data/cleaned_data.csv'\n",
    "clean_and_transform_data(input_csv, output_csv)"
   ]
  },
  {
   "cell_type": "code",
   "execution_count": 9,
   "metadata": {},
   "outputs": [],
   "source": [
    "from database import get_connection,export_to_Postgres"
   ]
  },
  {
   "cell_type": "code",
   "execution_count": 18,
   "metadata": {},
   "outputs": [
    {
     "name": "stdout",
     "output_type": "stream",
     "text": [
      "Connection successful\n",
      "Table 'cleaned_data' has been successfully exported to the PostgreSQL database.\n"
     ]
    }
   ],
   "source": [
    "df = pd.read_csv(output_csv)\n",
    "table_name = 'cleaned_data'\n",
    "export_to_Postgres(df, table_name)"
   ]
  }
 ],
 "metadata": {
  "kernelspec": {
   "display_name": ".venv",
   "language": "python",
   "name": "python3"
  },
  "language_info": {
   "codemirror_mode": {
    "name": "ipython",
    "version": 3
   },
   "file_extension": ".py",
   "mimetype": "text/x-python",
   "name": "python",
   "nbconvert_exporter": "python",
   "pygments_lexer": "ipython3",
   "version": "3.12.5"
  }
 },
 "nbformat": 4,
 "nbformat_minor": 2
}
